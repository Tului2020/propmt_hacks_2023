{
 "cells": [
  {
   "cell_type": "code",
   "execution_count": 6,
   "metadata": {},
   "outputs": [
    {
     "name": "stderr",
     "output_type": "stream",
     "text": [
      "c:\\Users\\kchun\\anaconda3\\lib\\site-packages\\transformers\\pipelines\\text_classification.py:104: UserWarning: `return_all_scores` is now deprecated,  if want a similar funcionality use `top_k=None` instead of `return_all_scores=True` or `top_k=1` instead of `return_all_scores=False`.\n",
      "  warnings.warn(\n"
     ]
    },
    {
     "data": {
      "text/plain": [
       "[[{'label': 'anger', 'score': 0.0018490914953872561},\n",
       "  {'label': 'disgust', 'score': 0.01818115822970867},\n",
       "  {'label': 'fear', 'score': 0.0042847879230976105},\n",
       "  {'label': 'joy', 'score': 0.04212608560919762},\n",
       "  {'label': 'neutral', 'score': 0.03167510777711868},\n",
       "  {'label': 'sadness', 'score': 0.8993649482727051},\n",
       "  {'label': 'surprise', 'score': 0.002518904162570834}]]"
      ]
     },
     "execution_count": 6,
     "metadata": {},
     "output_type": "execute_result"
    }
   ],
   "source": [
    "from transformers import pipeline\n",
    "import torch\n",
    "classifier = pipeline(\"text-classification\", model=\"j-hartmann/emotion-english-distilroberta-base\", return_all_scores=True)\n",
    "classifier(\"I'm not feeling so good. I'm thinking of ending things tonight.\")"
   ]
  },
  {
   "cell_type": "code",
   "execution_count": 8,
   "metadata": {},
   "outputs": [],
   "source": [
    "def emotion_classification(history):\n",
    "    emo = []\n",
    "    for chat in history:\n",
    "        emo.extend(classifier(chat['content']))\n",
    "    \n",
    "    return emo\n",
    "\n",
    "history = [\n",
    "    {\"role\": \"user\", \"content\": \"hello\"},\n",
    "    {\"role\": \"user\", \"content\": \"I'm not feeling so good. I'm thinking of ending things tonight.\"},\n",
    "    {\"role\": \"user\", \"content\": \"No. no one cares about me enough to listen.\"},\n",
    "    {\"role\": \"user\", \"content\": \"You're just a robot. what do you know? Maybe I should just kms.\"},\n",
    "    {\"role\": \"user\", \"content\": \"You might be right. But I don't want to speak to a counselor right now. What do you think I should do?\"}\n",
    "]\n",
    "\n",
    "res = emotion_classification(history)"
   ]
  },
  {
   "cell_type": "code",
   "execution_count": 15,
   "metadata": {},
   "outputs": [
    {
     "data": {
      "text/plain": [
       "{'label': {0: 'anger',\n",
       "  1: 'disgust',\n",
       "  2: 'fear',\n",
       "  3: 'joy',\n",
       "  4: 'neutral',\n",
       "  5: 'sadness',\n",
       "  6: 'surprise'},\n",
       " 'score': {0: 0.07710293128620833,\n",
       "  1: 0.1515068550594151,\n",
       "  2: 0.05623728558421135,\n",
       "  3: 0.01218790290877223,\n",
       "  4: 0.4304735615849495,\n",
       "  5: 0.23886648351326584,\n",
       "  6: 0.033624988282099366}}"
      ]
     },
     "execution_count": 15,
     "metadata": {},
     "output_type": "execute_result"
    }
   ],
   "source": [
    "import pandas as pd\n",
    "dfs = []\n",
    "for item in res:\n",
    "    dfs.append(pd.DataFrame(item))\n",
    "\n",
    "df = pd.concat(dfs)\n",
    "df_mean = df.groupby('label')['score'].mean().reset_index(name='score')\n",
    "\n",
    "df_mean.to_dict()\n",
    "\n"
   ]
  }
 ],
 "metadata": {
  "kernelspec": {
   "display_name": "base",
   "language": "python",
   "name": "python3"
  },
  "language_info": {
   "codemirror_mode": {
    "name": "ipython",
    "version": 3
   },
   "file_extension": ".py",
   "mimetype": "text/x-python",
   "name": "python",
   "nbconvert_exporter": "python",
   "pygments_lexer": "ipython3",
   "version": "3.9.13"
  },
  "orig_nbformat": 4
 },
 "nbformat": 4,
 "nbformat_minor": 2
}
